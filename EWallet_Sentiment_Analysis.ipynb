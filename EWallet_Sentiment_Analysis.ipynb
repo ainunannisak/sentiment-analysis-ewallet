{
  "nbformat": 4,
  "nbformat_minor": 0,
  "metadata": {
    "colab": {
      "name": "EWallet Sentiment Analysis.ipynb",
      "private_outputs": true,
      "provenance": [],
      "collapsed_sections": [],
      "authorship_tag": "ABX9TyNJicqzTetOQ0fv6AWPYGrT",
      "include_colab_link": true
    },
    "kernelspec": {
      "name": "python3",
      "display_name": "Python 3"
    },
    "language_info": {
      "name": "python"
    }
  },
  "cells": [
    {
      "cell_type": "markdown",
      "metadata": {
        "id": "view-in-github",
        "colab_type": "text"
      },
      "source": [
        "<a href=\"https://colab.research.google.com/github/kazriel/sentiment-analysis-ewallet/blob/main/EWallet_Sentiment_Analysis.ipynb\" target=\"_parent\"><img src=\"https://colab.research.google.com/assets/colab-badge.svg\" alt=\"Open In Colab\"/></a>"
      ]
    },
    {
      "cell_type": "markdown",
      "source": [
        "Data Scrapping from Google Play Store"
      ],
      "metadata": {
        "id": "TaNwnGy3NxxB"
      }
    },
    {
      "cell_type": "code",
      "execution_count": null,
      "metadata": {
        "id": "KThKRqZVM01U"
      },
      "outputs": [],
      "source": [
        "pip install google-play-scraper"
      ]
    },
    {
      "cell_type": "code",
      "source": [
        "# Import libraries\n",
        "from google_play_scraper import Sort, reviews, app\n",
        "\n",
        "import json\n",
        "import pandas as pd\n",
        "from tqdm import tqdm"
      ],
      "metadata": {
        "id": "O91XFVh1I3r-"
      },
      "execution_count": null,
      "outputs": []
    },
    {
      "cell_type": "code",
      "source": [
        "app_packages = [\n",
        "  'ovo.id', #OVO Installs: 10.000.000+ [INCLUDED]\n",
        "  'id.dana', #DANA Installs: 50.000.000+ [INCLUDED]\n",
        "  'com.telkom.mwallet', #LinkAja Installs: 10.000.000+ [INCLUDED]\n",
        "  'com.btpn.dc', #Jenius Installs: 5.000.000+ [INCLUDED]\n",
        "  'com.isaku.app', #iSaku Installs: 5.000.000+ [INCLUDED]\n",
        "  ]"
      ],
      "metadata": {
        "id": "gENx03J5JSbG"
      },
      "execution_count": null,
      "outputs": []
    },
    {
      "cell_type": "code",
      "source": [
        "app_reviews = []\n",
        "\n",
        "for ap in tqdm(app_packages):\n",
        "  for score in list(range(1, 6)):\n",
        "    for sort_order in [Sort.MOST_RELEVANT, Sort.NEWEST]:\n",
        "      rvs, _ = reviews(\n",
        "        ap,\n",
        "        lang='id',\n",
        "        country='id',\n",
        "        sort=sort_order,\n",
        "        count= 300 if score == 3 else 300,\n",
        "        filter_score_with=score\n",
        "      )\n",
        "      for r in rvs:\n",
        "        r['sortOrder'] = 'most_relevant' if sort_order == Sort.MOST_RELEVANT else 'newest'\n",
        "        r['appId'] = ap\n",
        "      app_reviews.extend(rvs)"
      ],
      "metadata": {
        "id": "2rmppRerJ572"
      },
      "execution_count": null,
      "outputs": []
    },
    {
      "cell_type": "code",
      "source": [
        "def print_json(json_object):\n",
        "  json_str = json.dumps(\n",
        "    json_object, \n",
        "    indent=2, \n",
        "    sort_keys=True, \n",
        "    default=str\n",
        "  )\n",
        "  print(json_str)\n",
        "\n",
        "print_json (app_reviews[1])"
      ],
      "metadata": {
        "id": "WUErE0BeKSml"
      },
      "execution_count": null,
      "outputs": []
    },
    {
      "cell_type": "code",
      "source": [
        "app_reviews_df = pd.DataFrame(app_reviews)\n",
        "app_reviews_df.to_csv('dataset.csv', index=None, header=True)"
      ],
      "metadata": {
        "id": "PdIWUMC3KN1C"
      },
      "execution_count": null,
      "outputs": []
    }
  ]
}